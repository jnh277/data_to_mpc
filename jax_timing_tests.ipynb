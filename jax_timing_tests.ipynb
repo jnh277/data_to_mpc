{
 "cells": [
  {
   "cell_type": "code",
   "execution_count": 11,
   "metadata": {
    "collapsed": true
   },
   "outputs": [],
   "source": [
    "\"\"\"\n",
    "Script for demonstrating and testing the speed of JAX when used in different ways\n",
    "\n",
    "\"\"\"\n",
    "\n",
    "import numpy as np\n",
    "from scipy.optimize import minimize, least_squares\n",
    "import jax.numpy as jnp\n",
    "from jax import grad, jit, device_put, jacfwd, jacrev, jvp\n",
    "from functools import partial"
   ]
  },
  {
   "cell_type": "code",
   "execution_count": 17,
   "outputs": [
    {
     "name": "stdout",
     "output_type": "stream",
     "text": [
      "188 µs ± 6.88 µs per loop (mean ± std. dev. of 7 runs, 10000 loops each)\n",
      "46.3 µs ± 323 ns per loop (mean ± std. dev. of 7 runs, 10000 loops each)\n",
      "48 µs ± 84.7 ns per loop (mean ± std. dev. of 7 runs, 10000 loops each)\n",
      "46.8 µs ± 85.8 ns per loop (mean ± std. dev. of 7 runs, 10000 loops each)\n"
     ]
    }
   ],
   "source": [
    "def matrix_multiply(A,B):\n",
    "    return jnp.matmul(A+A,B)\n",
    "Anp = np.random.randn(100, 1000)\n",
    "Bnp = np.random.randn(1000, 100)\n",
    "A = device_put(Anp)\n",
    "B = device_put(Bnp)\n",
    "\n",
    "%timeit matrix_multiply(Anp,Bnp).block_until_ready()\n",
    "\n",
    "lmm = lambda A: matrix_multiply(A,B)\n",
    "\n",
    "\n",
    "\n",
    "lmm_jit = jit(lmm)\n",
    "\n",
    "%timeit lmm_jit(A).block_until_ready()\n",
    "\n",
    "def myfunc(func, A, B):\n",
    "    return func(A, B)\n",
    "\n",
    "myfunc_jit = jit(myfunc, static_argnums=(0,))\n",
    "%timeit myfunc_jit(matrix_multiply, A, B).block_until_ready()\n",
    "\n",
    "@partial(jit, static_argnums=(0,))\n",
    "def myfunc2(func, A):\n",
    "    return func(A)\n",
    "\n",
    "%timeit myfunc2(lmm, A).block_until_ready()\n",
    "\n"
   ],
   "metadata": {
    "collapsed": false,
    "pycharm": {
     "name": "#%%\n"
    }
   }
  },
  {
   "cell_type": "code",
   "execution_count": 3,
   "outputs": [
    {
     "name": "stdout",
     "output_type": "stream",
     "text": [
      "196 µs ± 4.96 µs per loop (mean ± std. dev. of 7 runs, 1000 loops each)\n"
     ]
    }
   ],
   "source": [
    "#\n",
    "A = np.random.randn(100, 100)\n",
    "B = np.random.randn(100, 100)\n",
    "\n",
    "%timeit matrix_multiply(A, B).block_until_ready()"
   ],
   "metadata": {
    "collapsed": false,
    "pycharm": {
     "name": "#%% time uncompiled on two numpy arrays\n"
    }
   }
  },
  {
   "cell_type": "code",
   "execution_count": 5,
   "outputs": [
    {
     "name": "stdout",
     "output_type": "stream",
     "text": [
      "70.3 µs ± 856 ns per loop (mean ± std. dev. of 7 runs, 10000 loops each)\n"
     ]
    }
   ],
   "source": [
    "mm_jit = jit(matrix_multiply)\n",
    "\n",
    "A = np.random.randn(100, 100)\n",
    "B = np.random.randn(100, 100)\n",
    "\n",
    "%timeit mm_jit(A, B).block_until_ready()\n"
   ],
   "metadata": {
    "collapsed": false,
    "pycharm": {
     "name": "#%% time compiled on two numpy arrays\n"
    }
   }
  },
  {
   "cell_type": "code",
   "execution_count": 7,
   "outputs": [
    {
     "name": "stdout",
     "output_type": "stream",
     "text": [
      "60.6 µs ± 1.71 µs per loop (mean ± std. dev. of 7 runs, 10000 loops each)\n"
     ]
    }
   ],
   "source": [
    "mm_jit = jit(matrix_multiply)\n",
    "\n",
    "A = np.random.randn(100, 100)\n",
    "B = np.random.randn(100, 100)\n",
    "A = device_put(A)\n",
    "# B = device_put(B)\n",
    "\n",
    "%timeit mm_jit(A, B).block_until_ready()"
   ],
   "metadata": {
    "collapsed": false,
    "pycharm": {
     "name": "#%% time compiled on one numpy array and one jnp array\n"
    }
   }
  },
  {
   "cell_type": "code",
   "execution_count": 8,
   "outputs": [
    {
     "name": "stdout",
     "output_type": "stream",
     "text": [
      "36.3 µs ± 152 ns per loop (mean ± std. dev. of 7 runs, 10000 loops each)\n"
     ]
    }
   ],
   "source": [
    "mm_jit = jit(matrix_multiply)\n",
    "\n",
    "A = np.random.randn(100, 100)\n",
    "B = np.random.randn(100, 100)\n",
    "A = device_put(A)\n",
    "B = device_put(B)\n",
    "\n",
    "%timeit mm_jit(A, B).block_until_ready()"
   ],
   "metadata": {
    "collapsed": false,
    "pycharm": {
     "name": "#%% time compiled on two jnp array\n"
    }
   }
  },
  {
   "cell_type": "code",
   "execution_count": 17,
   "outputs": [
    {
     "name": "stdout",
     "output_type": "stream",
     "text": [
      "1.37 ms ± 79.3 µs per loop (mean ± std. dev. of 7 runs, 1000 loops each)\n"
     ]
    }
   ],
   "source": [
    "def sum_mat_mul(A, B):\n",
    "    return jnp.matmul(A, B).sum()\n",
    "\n",
    "gradient = grad(sum_mat_mul, argnums=0)\n",
    "\n",
    "A = np.random.randn(100, 100)\n",
    "B = np.random.randn(100, 100)\n",
    "\n",
    "%timeit gradient(A, B).block_until_ready()"
   ],
   "metadata": {
    "collapsed": false,
    "pycharm": {
     "name": "#%% grad of uncompiled function, on two numpy arrays\n"
    }
   }
  },
  {
   "cell_type": "code",
   "execution_count": 18,
   "outputs": [
    {
     "name": "stdout",
     "output_type": "stream",
     "text": [
      "714 µs ± 2.37 µs per loop (mean ± std. dev. of 7 runs, 1000 loops each)\n"
     ]
    }
   ],
   "source": [
    "smm_jit = jit(sum_mat_mul)\n",
    "\n",
    "gradient = grad(smm_jit, argnums=0)\n",
    "\n",
    "A = np.random.randn(100, 100)\n",
    "B = np.random.randn(100, 100)\n",
    "\n",
    "%timeit gradient(A, B).block_until_ready()"
   ],
   "metadata": {
    "collapsed": false,
    "pycharm": {
     "name": "#%% grad of compiled function, on two numpy arrays\n"
    }
   }
  },
  {
   "cell_type": "code",
   "execution_count": 19,
   "outputs": [
    {
     "name": "stdout",
     "output_type": "stream",
     "text": [
      "85.7 µs ± 8.13 µs per loop (mean ± std. dev. of 7 runs, 10000 loops each)\n"
     ]
    }
   ],
   "source": [
    "# this and the next are the fastest options\n",
    "\n",
    "gradient = jit(grad(sum_mat_mul, argnums=0))\n",
    "\n",
    "A = np.random.randn(100, 100)\n",
    "B = np.random.randn(100, 100)\n",
    "\n",
    "%timeit gradient(A, B).block_until_ready()"
   ],
   "metadata": {
    "collapsed": false,
    "pycharm": {
     "name": "#%% compiled grad of uncompiled function, on two numpy arrays\n"
    }
   }
  },
  {
   "cell_type": "code",
   "execution_count": 20,
   "outputs": [
    {
     "name": "stdout",
     "output_type": "stream",
     "text": [
      "82.6 µs ± 3.7 µs per loop (mean ± std. dev. of 7 runs, 10000 loops each)\n"
     ]
    }
   ],
   "source": [
    "# gives same speed as previous\n",
    "\n",
    "gradient = jit(grad(jit(sum_mat_mul), argnums=0))\n",
    "\n",
    "A = np.random.randn(100, 100)\n",
    "B = np.random.randn(100, 100)\n",
    "\n",
    "%timeit gradient(A, B).block_until_ready()"
   ],
   "metadata": {
    "collapsed": false,
    "pycharm": {
     "name": "#%% compiled grad of compiled function, on two numpy arrays\n"
    }
   }
  },
  {
   "cell_type": "code",
   "execution_count": 21,
   "outputs": [
    {
     "name": "stdout",
     "output_type": "stream",
     "text": [
      "45.1 µs ± 156 ns per loop (mean ± std. dev. of 7 runs, 10000 loops each)\n"
     ]
    }
   ],
   "source": [
    "# this and the next are the fastest options\n",
    "\n",
    "gradient = jit(grad(sum_mat_mul, argnums=0))\n",
    "\n",
    "A = np.random.randn(100, 100)\n",
    "B = np.random.randn(100, 100)\n",
    "A = device_put(A)\n",
    "B = device_put(B)\n",
    "\n",
    "%timeit gradient(A, B).block_until_ready()"
   ],
   "metadata": {
    "collapsed": false,
    "pycharm": {
     "name": "#%% compiled grad of uncompiled function, on two numpy arrays\n"
    }
   }
  },
  {
   "cell_type": "code",
   "execution_count": 22,
   "outputs": [
    {
     "name": "stdout",
     "output_type": "stream",
     "text": [
      "100 ms ± 10.2 ms per loop (mean ± std. dev. of 7 runs, 1 loop each)\n"
     ]
    }
   ],
   "source": [
    "\n",
    "hessian = jacfwd(jacrev(smm_jit, argnums=0))\n",
    "\n",
    "A = np.random.randn(100, 100)\n",
    "B = np.random.randn(100, 100)\n",
    "A = device_put(A)\n",
    "B = device_put(B)\n",
    "\n",
    "%timeit hessian(A, B).block_until_ready()"
   ],
   "metadata": {
    "collapsed": false,
    "pycharm": {
     "name": "#%% uncompiled hessian\n"
    }
   }
  },
  {
   "cell_type": "code",
   "execution_count": 23,
   "outputs": [
    {
     "name": "stdout",
     "output_type": "stream",
     "text": [
      "1.27 ms ± 18.7 µs per loop (mean ± std. dev. of 7 runs, 1 loop each)\n"
     ]
    }
   ],
   "source": [
    "# this and the next are the fastest options, this is really fast\n",
    "\n",
    "hessian = jit(jacfwd(jacrev(smm_jit, argnums=0)))\n",
    "\n",
    "A = np.random.randn(100, 100)\n",
    "B = np.random.randn(100, 100)\n",
    "A = device_put(A)\n",
    "B = device_put(B)\n",
    "\n",
    "%timeit hessian(A, B).block_until_ready()\n",
    "\n",
    "\n",
    "\n"
   ],
   "metadata": {
    "collapsed": false,
    "pycharm": {
     "name": "#%% compiled hessian\n"
    }
   }
  }
 ],
 "metadata": {
  "kernelspec": {
   "display_name": "Python 3",
   "language": "python",
   "name": "python3"
  },
  "language_info": {
   "codemirror_mode": {
    "name": "ipython",
    "version": 2
   },
   "file_extension": ".py",
   "mimetype": "text/x-python",
   "name": "python",
   "nbconvert_exporter": "python",
   "pygments_lexer": "ipython2",
   "version": "2.7.6"
  }
 },
 "nbformat": 4,
 "nbformat_minor": 0
}